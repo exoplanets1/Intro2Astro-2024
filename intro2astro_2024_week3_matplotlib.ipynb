{
 "cells": [
  {
   "cell_type": "code",
   "execution_count": 2,
   "metadata": {},
   "outputs": [],
   "source": [
    "import matplotlib.pyplot as plt # type: ignore\n",
    "import numpy as np # type: ignore\n",
    "import scipy.stats as stats # type: ignore"
   ]
  },
  {
   "cell_type": "markdown",
   "metadata": {},
   "source": [
    "Exercise 1: Use Numpy to generate 10000 random values following a Gaussian/Normal distribution, and make a histogram. Try changing the number of bins to properly see the Gaussian. Try overplotting a Gaussian function on top of it using a colored line, and adjust the normalization so that the histogram and the line are aligned."
   ]
  },
  {
   "cell_type": "code",
   "execution_count": null,
   "metadata": {},
   "outputs": [],
   "source": [
    "dist = np.random.normal(size=1000)\n",
    "plt.figure(figsize=[8,3])\n",
    "mean = 0\n",
    "stdev = 1\n",
    "x = np.linspace(mean - 3*stdev, mean + 3*stdev, 100)\n",
    "plt.plot(x, stats.norm.pdf(x, mean, stdev))\n",
    "plt.hist(dist, bins=32, density=True)"
   ]
  },
  {
   "cell_type": "markdown",
   "metadata": {},
   "source": [
    "Exercise 2: The central limit theorem states that the arithmetic mean of a large number of independent random samples (from any distribution) will approach a normal distribution. You can easily test this with Numpy and Matplotlib:\n",
    "\n",
    "1. Create an empty array total with 10000 values (set to 0)\n",
    "2. Generate 10000 random values uniformly between 0 and 1\n",
    "3. Add these values to the total array\n",
    "4. Repeat steps 2 and 3 10 times\n",
    "5. Divide total by 10 to get the mean of the values you added\n",
    "6. Make a histogram of the values in total"
   ]
  },
  {
   "cell_type": "code",
   "execution_count": null,
   "metadata": {},
   "outputs": [],
   "source": [
    "total = np.zeros(10000)\n",
    "total.size\n",
    "for i in range(10):\n",
    "    total += np.random.rand(10000)\n",
    "total /= 10\n",
    "plt.hist(total, bins=16)"
   ]
  }
 ],
 "metadata": {
  "kernelspec": {
   "display_name": "test",
   "language": "python",
   "name": "python3"
  },
  "language_info": {
   "codemirror_mode": {
    "name": "ipython",
    "version": 3
   },
   "file_extension": ".py",
   "mimetype": "text/x-python",
   "name": "python",
   "nbconvert_exporter": "python",
   "pygments_lexer": "ipython3",
   "version": "3.12.3"
  }
 },
 "nbformat": 4,
 "nbformat_minor": 2
}
